{
 "cells": [
  {
   "cell_type": "code",
   "execution_count": 3,
   "id": "d91248c3",
   "metadata": {},
   "outputs": [],
   "source": [
    "# Libraries\n",
    "import requests\n",
    "import os\n",
    "import pandas as pd\n",
    "\n",
    "#SQL\n",
    "import sqlite3\n",
    "from sqlite3 import Error\n",
    "import csv"
   ]
  },
  {
   "cell_type": "code",
   "execution_count": 18,
   "id": "53f46bf3",
   "metadata": {},
   "outputs": [
    {
     "data": {
      "text/html": [
       "<div>\n",
       "<style scoped>\n",
       "    .dataframe tbody tr th:only-of-type {\n",
       "        vertical-align: middle;\n",
       "    }\n",
       "\n",
       "    .dataframe tbody tr th {\n",
       "        vertical-align: top;\n",
       "    }\n",
       "\n",
       "    .dataframe thead th {\n",
       "        text-align: right;\n",
       "    }\n",
       "</style>\n",
       "<table border=\"1\" class=\"dataframe\">\n",
       "  <thead>\n",
       "    <tr style=\"text-align: right;\">\n",
       "      <th></th>\n",
       "      <th>hp</th>\n",
       "      <th>attack</th>\n",
       "      <th>defense</th>\n",
       "      <th>special-attack</th>\n",
       "      <th>special-defense</th>\n",
       "      <th>speed</th>\n",
       "      <th>type_1</th>\n",
       "      <th>type_2</th>\n",
       "      <th>Pokemon</th>\n",
       "      <th>totalstat</th>\n",
       "    </tr>\n",
       "    <tr>\n",
       "      <th>id</th>\n",
       "      <th></th>\n",
       "      <th></th>\n",
       "      <th></th>\n",
       "      <th></th>\n",
       "      <th></th>\n",
       "      <th></th>\n",
       "      <th></th>\n",
       "      <th></th>\n",
       "      <th></th>\n",
       "      <th></th>\n",
       "    </tr>\n",
       "  </thead>\n",
       "  <tbody>\n",
       "    <tr>\n",
       "      <th>0</th>\n",
       "      <td>45</td>\n",
       "      <td>49</td>\n",
       "      <td>49</td>\n",
       "      <td>65</td>\n",
       "      <td>65</td>\n",
       "      <td>45</td>\n",
       "      <td>grass</td>\n",
       "      <td>poison</td>\n",
       "      <td>bulbasaur</td>\n",
       "      <td>318</td>\n",
       "    </tr>\n",
       "    <tr>\n",
       "      <th>1</th>\n",
       "      <td>60</td>\n",
       "      <td>62</td>\n",
       "      <td>63</td>\n",
       "      <td>80</td>\n",
       "      <td>80</td>\n",
       "      <td>60</td>\n",
       "      <td>grass</td>\n",
       "      <td>poison</td>\n",
       "      <td>ivysaur</td>\n",
       "      <td>405</td>\n",
       "    </tr>\n",
       "    <tr>\n",
       "      <th>2</th>\n",
       "      <td>80</td>\n",
       "      <td>82</td>\n",
       "      <td>83</td>\n",
       "      <td>100</td>\n",
       "      <td>100</td>\n",
       "      <td>80</td>\n",
       "      <td>grass</td>\n",
       "      <td>poison</td>\n",
       "      <td>venusaur</td>\n",
       "      <td>525</td>\n",
       "    </tr>\n",
       "    <tr>\n",
       "      <th>3</th>\n",
       "      <td>39</td>\n",
       "      <td>52</td>\n",
       "      <td>43</td>\n",
       "      <td>60</td>\n",
       "      <td>50</td>\n",
       "      <td>65</td>\n",
       "      <td>fire</td>\n",
       "      <td>NaN</td>\n",
       "      <td>charmander</td>\n",
       "      <td>309</td>\n",
       "    </tr>\n",
       "    <tr>\n",
       "      <th>4</th>\n",
       "      <td>58</td>\n",
       "      <td>64</td>\n",
       "      <td>58</td>\n",
       "      <td>80</td>\n",
       "      <td>65</td>\n",
       "      <td>80</td>\n",
       "      <td>fire</td>\n",
       "      <td>NaN</td>\n",
       "      <td>charmeleon</td>\n",
       "      <td>405</td>\n",
       "    </tr>\n",
       "  </tbody>\n",
       "</table>\n",
       "</div>"
      ],
      "text/plain": [
       "    hp  attack  defense  special-attack  special-defense  speed type_1  \\\n",
       "id                                                                       \n",
       "0   45      49       49              65               65     45  grass   \n",
       "1   60      62       63              80               80     60  grass   \n",
       "2   80      82       83             100              100     80  grass   \n",
       "3   39      52       43              60               50     65   fire   \n",
       "4   58      64       58              80               65     80   fire   \n",
       "\n",
       "    type_2     Pokemon  totalstat  \n",
       "id                                 \n",
       "0   poison   bulbasaur        318  \n",
       "1   poison     ivysaur        405  \n",
       "2   poison    venusaur        525  \n",
       "3      NaN  charmander        309  \n",
       "4      NaN  charmeleon        405  "
      ]
     },
     "execution_count": 18,
     "metadata": {},
     "output_type": "execute_result"
    }
   ],
   "source": [
    "# Load CSV:\n",
    "gen1_df = pd.read_csv('../data/gen1_pokemon_stats.csv')\n",
    "gen1_df.index.name='id'\n",
    "gen1_df.head()"
   ]
  },
  {
   "cell_type": "code",
   "execution_count": 5,
   "id": "0ee5b70e",
   "metadata": {},
   "outputs": [
    {
     "name": "stdout",
     "output_type": "stream",
     "text": [
      "Connection to SQLite DB successful\n"
     ]
    }
   ],
   "source": [
    "connection = create_connection(\"../data/project.sqlite\")"
   ]
  },
  {
   "cell_type": "code",
   "execution_count": 6,
   "id": "8d8d3257",
   "metadata": {},
   "outputs": [],
   "source": [
    "# Setup standard functions:\n",
    "def create_connection(path):\n",
    "    connection = None\n",
    "    try:\n",
    "        connection = sqlite3.connect(path)\n",
    "        print(\"Connection to SQLite DB successful\")\n",
    "    except Error as e:\n",
    "        print(f\"The error '{e}' occurred\")\n",
    "\n",
    "    return connection\n",
    "\n",
    "def execute_query(connection, query):\n",
    "    cursor = connection.cursor()\n",
    "    try:\n",
    "        cursor.execute(query)\n",
    "        connection.commit()\n",
    "        print(\"Query executed successfully\")\n",
    "    except Error as e:\n",
    "        print(f\"The error '{e}' occurred\")\n",
    "        \n",
    "def execute_read_query(connection, query):\n",
    "    cursor = connection.cursor()\n",
    "    result = None\n",
    "    try:\n",
    "        cursor.execute(query)\n",
    "        result = cursor.fetchall()\n",
    "        return result\n",
    "    except Error as e:\n",
    "        print(f\"The error '{e}' occurred\")\n",
    "\n",
    "cursor = connection.cursor()"
   ]
  },
  {
   "cell_type": "code",
   "execution_count": 16,
   "id": "70b03d34",
   "metadata": {},
   "outputs": [
    {
     "name": "stdout",
     "output_type": "stream",
     "text": [
      "Query executed successfully\n",
      "Query executed successfully\n"
     ]
    }
   ],
   "source": [
    "drop_pokemon_table = \"\"\"\n",
    "DROP TABLE IF EXISTS pokemon_gen1\n",
    ";\"\"\"\n",
    "\n",
    "create_pokemon_table = \"\"\"\n",
    "CREATE TABLE IF NOT EXISTS pokemon_gen1 (\n",
    "  id INTEGER PRIMARY KEY AUTOINCREMENT,\n",
    "  hp INTEGER,\n",
    "  attack INTEGER,\n",
    "  defence INTEGER,\n",
    "  special_attack INTEGER,\n",
    "  special_defence INTEGER,\n",
    "  speed INTEGER,\n",
    "  type_1 TEXT,\n",
    "  type_2 TEXT,\n",
    "  name TEXT,\n",
    "  totalstat INTEGER\n",
    ");\n",
    "\"\"\"\n",
    "execute_query(connection, drop_pokemon_table)\n",
    "execute_query(connection, create_pokemon_table)"
   ]
  },
  {
   "cell_type": "code",
   "execution_count": 19,
   "id": "62cf9ced",
   "metadata": {},
   "outputs": [
    {
     "data": {
      "text/plain": [
       "151"
      ]
     },
     "execution_count": 19,
     "metadata": {},
     "output_type": "execute_result"
    }
   ],
   "source": [
    "gen1_df.to_sql('pokemon_gen1', con=connection, if_exists='replace', index=True, index_label=None)"
   ]
  },
  {
   "cell_type": "code",
   "execution_count": 20,
   "id": "7ff0c278",
   "metadata": {},
   "outputs": [
    {
     "data": {
      "text/plain": [
       "[(0, 45, 49, 49, 65, 65, 45, 'grass', 'poison', 'bulbasaur', 318),\n",
       " (1, 60, 62, 63, 80, 80, 60, 'grass', 'poison', 'ivysaur', 405),\n",
       " (2, 80, 82, 83, 100, 100, 80, 'grass', 'poison', 'venusaur', 525),\n",
       " (3, 39, 52, 43, 60, 50, 65, 'fire', None, 'charmander', 309),\n",
       " (4, 58, 64, 58, 80, 65, 80, 'fire', None, 'charmeleon', 405)]"
      ]
     },
     "execution_count": 20,
     "metadata": {},
     "output_type": "execute_result"
    }
   ],
   "source": [
    "select_all = \"SELECT * FROM pokemon_gen1 LIMIT 5\"\n",
    "execute_read_query(connection, select_all)"
   ]
  }
 ],
 "metadata": {
  "kernelspec": {
   "display_name": "Python 3 (ipykernel)",
   "language": "python",
   "name": "python3"
  },
  "language_info": {
   "codemirror_mode": {
    "name": "ipython",
    "version": 3
   },
   "file_extension": ".py",
   "mimetype": "text/x-python",
   "name": "python",
   "nbconvert_exporter": "python",
   "pygments_lexer": "ipython3",
   "version": "3.10.9"
  }
 },
 "nbformat": 4,
 "nbformat_minor": 5
}
