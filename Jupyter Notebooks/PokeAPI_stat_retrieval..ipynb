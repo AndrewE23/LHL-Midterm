{
 "cells": [
  {
   "cell_type": "markdown",
   "id": "9d161855",
   "metadata": {},
   "source": [
    "## Midterm Project - API Request"
   ]
  },
  {
   "cell_type": "code",
   "execution_count": 15,
   "id": "1bc50b6b",
   "metadata": {},
   "outputs": [],
   "source": [
    "# Libraries\n",
    "import requests\n",
    "import os\n",
    "\n",
    "# Not used yet, but imported for possible later use\n",
    "import json\n",
    "import pandas as pd"
   ]
  },
  {
   "cell_type": "code",
   "execution_count": 20,
   "id": "4808ec53",
   "metadata": {},
   "outputs": [],
   "source": [
    "import requests\n",
    "import csv\n",
    "\n",
    "# this was updated to use list slices, not necessary but a variation on style\n",
    "generations = [\n",
    "    range(1, 152),    # Gen 1\n",
    "    range(152, 252),  # Gen 2\n",
    "    range(252, 387),  # Gen 3\n",
    "    range(387, 494),  # Gen 4\n",
    "    range(494, 650),  # Gen 5\n",
    "    range(650, 722),  # Gen 6\n",
    "    range(722, 810),  # Gen 7\n",
    "    range(810, 906),  # Gen 8\n",
    "    range(906, 1011)  # Gen 9\n",
    "]\n",
    "\n",
    "# this has been updated to include a totalstat column for setting up a simple model\n",
    "# this is a large function that could be split into smaller functions, but for now, we'll keep it as is\n",
    "def generate_poke_csv(gen_val):\n",
    "    try:\n",
    "        gen = generations[gen_val - 1]\n",
    "    except IndexError:\n",
    "        print(f\"Invalid generation number: {gen_val}\")\n",
    "        return\n",
    "\n",
    "    pokemon_traits = []\n",
    "\n",
    "    for pokemon_id in gen:\n",
    "        url = f\"https://pokeapi.co/api/v2/pokemon/{pokemon_id}\"\n",
    "        response = requests.get(url)\n",
    "        pokemon_data = response.json()\n",
    "\n",
    "        stats = {}\n",
    "        ptypes = {\"type_1\": \"\", \"type_2\": \"\"}\n",
    "\n",
    "        for stat in pokemon_data[\"stats\"]:\n",
    "            stat_name = stat[\"stat\"][\"name\"]\n",
    "            base_stat = stat[\"base_stat\"]\n",
    "            stats[stat_name] = base_stat\n",
    "\n",
    "        for ptype in pokemon_data[\"types\"]:\n",
    "            type_name = f\"type_{ptype['slot']}\"\n",
    "            type_entry = ptype[\"type\"][\"name\"]\n",
    "            ptypes[type_name] = type_entry\n",
    "\n",
    "        joint_t = {**stats, **ptypes, \"Pokemon\": pokemon_data[\"name\"]}\n",
    "        pokemon_traits.append(joint_t)\n",
    "\n",
    "    # Add the 'totalstat' column to each trait\n",
    "    for traits in pokemon_traits:\n",
    "        stat_values = [traits[stat_name] for stat_name in [\"hp\", \"attack\", \"defense\", \"special-attack\", \"special-defense\", \"speed\"]]\n",
    "        total_stat = sum(stat_values)\n",
    "        traits[\"totalstat\"] = total_stat\n",
    "\n",
    "    # Write the stats to the CSV file\n",
    "    output_file = f\"../data/gen{gen_val}_pokemon_stats.csv\"\n",
    "    with open(output_file, \"w\", newline=\"\") as file:\n",
    "        writer = csv.DictWriter(file, fieldnames=pokemon_traits[0].keys())\n",
    "        writer.writeheader()\n",
    "        writer.writerows(pokemon_traits)\n"
   ]
  },
  {
   "cell_type": "code",
   "execution_count": 21,
   "id": "42a85b81",
   "metadata": {},
   "outputs": [],
   "source": [
    "os.mkdir('../data/')#this cant be ran a second time without crashing the code\n",
    "\n",
    "# Variable = generation number, which is adjusted in-function to grab\n",
    "# correct data (i.e. gen2 = 2, rather than gen2 = 1)\n",
    "generate_poke_csv(1)\n",
    "# generate_poke_csv(2) commented out until needed\n",
    "# generate_poke_csv(3)\n",
    "# generate_poke_csv(4)\n",
    "# generate_poke_csv(5)\n",
    "# generate_poke_csv(6)\n",
    "# generate_poke_csv(7)\n",
    "# generate_poke_csv(8)\n",
    "# generate_poke_csv(9)"
   ]
  },
  {
   "cell_type": "code",
   "execution_count": null,
   "id": "4e1593cd",
   "metadata": {},
   "outputs": [],
   "source": []
  }
 ],
 "metadata": {
  "kernelspec": {
   "display_name": "Python 3 (ipykernel)",
   "language": "python",
   "name": "python3"
  },
  "language_info": {
   "codemirror_mode": {
    "name": "ipython",
    "version": 3
   },
   "file_extension": ".py",
   "mimetype": "text/x-python",
   "name": "python",
   "nbconvert_exporter": "python",
   "pygments_lexer": "ipython3",
   "version": "3.10.9"
  }
 },
 "nbformat": 4,
 "nbformat_minor": 5
}
