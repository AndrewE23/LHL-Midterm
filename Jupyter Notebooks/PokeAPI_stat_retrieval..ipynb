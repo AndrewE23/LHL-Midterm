{
 "cells": [
  {
   "cell_type": "markdown",
   "id": "bb530656",
   "metadata": {},
   "source": [
    "## Midterm Project - API Request"
   ]
  },
  {
   "cell_type": "code",
   "execution_count": 3,
   "id": "44d9dcd8",
   "metadata": {},
   "outputs": [],
   "source": [
    "# Libraries\n",
    "import json\n",
    "import requests\n",
    "import pandas as pd"
   ]
  },
  {
   "cell_type": "code",
   "execution_count": 100,
   "id": "4808ec53",
   "metadata": {},
   "outputs": [],
   "source": [
    "# Defining generational/ID ranges, so that each \"generation\" can be placed \n",
    "# into its own csv file\n",
    "gen1 = range(1,152)\n",
    "gen2 = range(152,252)\n",
    "gen3 = range(252,387)\n",
    "gen4 = range(387,494)\n",
    "gen5 = range(494,650)\n",
    "gen6 = range(650,722)\n",
    "gen7 = range(722,810)\n",
    "gen8 = range(810,906)\n",
    "gen9 = range(906,1011)\n",
    "generations = (gen1, gen2, gen3, gen4, gen5, gen6, gen7, gen8, gen9)\n",
    "\n",
    "# Fetch stats, types for all Pokémon of a defined generation\n",
    "def generate_poke_csv(gen_val):\n",
    "    # Exception for invalid generation values\n",
    "    if gen_val < 1:\n",
    "        gen_val = 1\n",
    "    elif gen_val > 9:\n",
    "        gen_val = 9\n",
    "    gen = generations[(gen_val - 1)]\n",
    "    pokemon_traits = []\n",
    "    for pokemon_id in gen:\n",
    "        url = f\"https://pokeapi.co/api/v2/pokemon/\"+str(pokemon_id)\n",
    "        response = requests.get(url)\n",
    "        pokemon_data = response.json()\n",
    "\n",
    "        stats = {}\n",
    "        ptypes = {'type_1': '', 'type_2': ''}\n",
    "        for stat in pokemon_data['stats']:\n",
    "            stat_name = stat['stat']['name']\n",
    "            base_stat = stat['base_stat']\n",
    "            stats[stat_name] = base_stat\n",
    "        for ptype in pokemon_data['types']:\n",
    "            type_name = \"type_\" + str(ptype['slot'])\n",
    "            type_entry = ptype['type']['name']\n",
    "            ptypes[type_name] = type_entry\n",
    "        \n",
    "        joint_t = stats | ptypes\n",
    "        \n",
    "        joint_t['Pokemon'] = pokemon_data['name']\n",
    "        pokemon_traits.append(joint_t)\n",
    "        \n",
    "    # Write the stats to the CSV file\n",
    "    with open('gen' + str(gen_val) + '_pokemon_stats.csv', 'w') as file:\n",
    "        header = ','.join(pokemon_traits[0].keys())\n",
    "        file.write(header + '\\n')\n",
    "        for traits in pokemon_traits:\n",
    "            row = ','.join(str(value) for value in traits.values())\n",
    "            file.write(row + '\\n')\n",
    "    return"
   ]
  },
  {
   "cell_type": "code",
   "execution_count": 101,
   "id": "6079ade1",
   "metadata": {},
   "outputs": [],
   "source": [
    "# Variable = generation number, which is adjusted in-function to grab\n",
    "# correct data (i.e. gen2 = 2, rather than gen2 = 1)\n",
    "generate_poke_csv(1)\n",
    "generate_poke_csv(2)\n",
    "generate_poke_csv(3)\n",
    "generate_poke_csv(4)\n",
    "generate_poke_csv(5)\n",
    "generate_poke_csv(6)\n",
    "generate_poke_csv(7)\n",
    "generate_poke_csv(8)\n",
    "generate_poke_csv(9)"
   ]
  },
  {
   "cell_type": "code",
   "execution_count": null,
   "id": "062812a8",
   "metadata": {},
   "outputs": [],
   "source": []
  }
 ],
 "metadata": {
  "kernelspec": {
   "display_name": "Python 3 (ipykernel)",
   "language": "python",
   "name": "python3"
  },
  "language_info": {
   "codemirror_mode": {
    "name": "ipython",
    "version": 3
   },
   "file_extension": ".py",
   "mimetype": "text/x-python",
   "name": "python",
   "nbconvert_exporter": "python",
   "pygments_lexer": "ipython3",
   "version": "3.10.9"
  }
 },
 "nbformat": 4,
 "nbformat_minor": 5
}
