{
 "cells": [
  {
   "cell_type": "code",
   "execution_count": 25,
   "id": "ddf9246e",
   "metadata": {},
   "outputs": [
    {
     "name": "stdout",
     "output_type": "stream",
     "text": [
      "                            OLS Regression Results                            \n",
      "==============================================================================\n",
      "Dep. Variable:              totalstat   R-squared:                       0.330\n",
      "Model:                            OLS   Adj. R-squared:                  0.325\n",
      "Method:                 Least Squares   F-statistic:                     73.28\n",
      "Date:                Tue, 13 Jun 2023   Prob (F-statistic):           1.28e-14\n",
      "Time:                        16:27:07   Log-Likelihood:                -878.75\n",
      "No. Observations:                 151   AIC:                             1762.\n",
      "Df Residuals:                     149   BIC:                             1768.\n",
      "Df Model:                           1                                         \n",
      "Covariance Type:            nonrobust                                         \n",
      "==============================================================================\n",
      "                 coef    std err          t      P>|t|      [0.025      0.975]\n",
      "------------------------------------------------------------------------------\n",
      "const        278.8457     16.460     16.940      0.000     246.320     311.372\n",
      "x1             2.0058      0.234      8.561      0.000       1.543       2.469\n",
      "==============================================================================\n",
      "Omnibus:                       13.621   Durbin-Watson:                   1.969\n",
      "Prob(Omnibus):                  0.001   Jarque-Bera (JB):               15.569\n",
      "Skew:                          -0.623   Prob(JB):                     0.000416\n",
      "Kurtosis:                       3.961   Cond. No.                         173.\n",
      "==============================================================================\n",
      "\n",
      "Notes:\n",
      "[1] Standard Errors assume that the covariance matrix of the errors is correctly specified.\n"
     ]
    }
   ],
   "source": [
    "import os\n",
    "import numpy as np\n",
    "import pandas as pd\n",
    "import statsmodels.api as sm\n",
    "from sklearn import linear_model\n",
    "\n",
    "# cwd = os.getcwd()\n",
    "\n",
    "# uncomment this code and use it to look around directories when chatGPt is being slow\n",
    "# i just use this interactive\n",
    "# code structure to build file paths\n",
    "# #look in the directory\n",
    "# directory = \"../data\"\n",
    "# files = os.listdir(directory)\n",
    "\n",
    "# #display the files\n",
    "# for file in files:\n",
    "#     print(file)\n",
    "#\n",
    "# file = directory + \"/gen1_pokemon_stats.csv\"\n",
    "csvfile = pd.read_csv(file)\n",
    "data = pd.DataFrame(csvfile)\n",
    "data.head()\n",
    "\n",
    "# Check the column names in your DataFrame\n",
    "\n",
    "\n",
    "# Modify the column names as per your data\n",
    "X = pd.DataFrame(data['hp'], columns=['hp'])\n",
    "y = pd.Series(data['totalstat'], name='totalstat')\n",
    "X = sm.add_constant(X)\n",
    "lin_reg = sm.OLS(y, X.values)  # Pass X.values instead of X\n",
    "\n",
    "model = lin_reg.fit()\n",
    "print_model = model.summary()\n",
    "print(print_model)"
   ]
  },
  {
   "cell_type": "code",
   "execution_count": null,
   "id": "e513bdda",
   "metadata": {},
   "outputs": [],
   "source": []
  }
 ],
 "metadata": {
  "kernelspec": {
   "display_name": "Python 3 (ipykernel)",
   "language": "python",
   "name": "python3"
  },
  "language_info": {
   "codemirror_mode": {
    "name": "ipython",
    "version": 3
   },
   "file_extension": ".py",
   "mimetype": "text/x-python",
   "name": "python",
   "nbconvert_exporter": "python",
   "pygments_lexer": "ipython3",
   "version": "3.10.9"
  }
 },
 "nbformat": 4,
 "nbformat_minor": 5
}
