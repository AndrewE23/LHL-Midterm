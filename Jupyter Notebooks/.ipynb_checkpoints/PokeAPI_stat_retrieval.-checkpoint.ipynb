{
 "cells": [
  {
   "cell_type": "code",
   "execution_count": 2,
   "id": "4808ec53",
   "metadata": {},
   "outputs": [
    {
     "name": "stdout",
     "output_type": "stream",
     "text": [
      "Stats for the first 151 Pokémon have been saved to C:\\Users\\Jacob\\LHL-Midterm\\Jupyter Notebooks\n"
     ]
    }
   ],
   "source": [
    "import requests\n",
    "\n",
    "# Fetch stats for all the first 151 Pokémon\n",
    "pokemon_stats = []\n",
    "for pokemon_id in range(1, 152):\n",
    "    url = f\"https://pokeapi.co/api/v2/pokemon/\"+str(pokemon_id)\n",
    "    response = requests.get(url)\n",
    "\n",
    "    pokemon_data = response.json()\n",
    "\n",
    "    stats = {}\n",
    "    for stat in pokemon_data['stats']:\n",
    "        stat_name = stat['stat']['name']\n",
    "        base_stat = stat['base_stat']\n",
    "        stats[stat_name] = base_stat\n",
    "\n",
    "    stats['Pokemon'] = pokemon_data['name']\n",
    "    pokemon_stats.append(stats)\n",
    "\n",
    "# Write the stats to the CSV file\n",
    "with open('pokemon_stats.csv', 'w') as file:\n",
    "    header = ','.join(pokemon_stats[0].keys())\n",
    "    file.write(header + '\\n')\n",
    "    for stats in pokemon_stats:\n",
    "        row = ','.join(str(value) for value in stats.values())\n",
    "        file.write(row + '\\n')\n"
   ]
  },
  {
   "cell_type": "code",
   "execution_count": null,
   "id": "2f62814b",
   "metadata": {},
   "outputs": [],
   "source": []
  }
 ],
 "metadata": {
  "kernelspec": {
   "display_name": "Python 3 (ipykernel)",
   "language": "python",
   "name": "python3"
  },
  "language_info": {
   "codemirror_mode": {
    "name": "ipython",
    "version": 3
   },
   "file_extension": ".py",
   "mimetype": "text/x-python",
   "name": "python",
   "nbconvert_exporter": "python",
   "pygments_lexer": "ipython3",
   "version": "3.10.9"
  }
 },
 "nbformat": 4,
 "nbformat_minor": 5
}
